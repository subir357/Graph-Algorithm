{
 "cells": [
  {
   "cell_type": "markdown",
   "metadata": {},
   "source": [
    "# Problem Statement:\n",
    "   Let G = (V, E) be a connected directed graph with non-negative edge\n",
    "weights,let s and t be vertices of G, and let H be a subgraph of G obtained\n",
    "by deleting some edges. Suppose we want to reinsert exactly one edge from\n",
    "G back into H, so that the shortest path from s to t in the resulting graph\n",
    "is as short as possible."
   ]
  },
  {
   "cell_type": "markdown",
   "metadata": {},
   "source": [
    "## Idea:\n",
    " Here we will use BellmanFord algorithm to find the shortest distance from source node to all other nodes. \n",
    "Which will return a array of shortest weights form the source. \n",
    "Also here graph presented of the form [a,b,w], means a-->b with weight w.\n",
    "\n",
    "Step 1: Using BellmanFord find all source shortest path in H. Return array with D_H.\n",
    "Step 2: Reverse the graph H and apply BellmanFord form t. Return array with D_RH.\n",
    "Step 3: For an edge in (G-H) of the form [a,b,w] add the a'th position of the array in D_H and \n",
    "        b'th position of D_RH + w. And take the minimum of those.\n",
    " \n",
    "Here s=6'th node and t is 0'th node."
   ]
  },
  {
   "cell_type": "markdown",
   "metadata": {},
   "source": [
    "## BellmanFord"
   ]
  },
  {
   "cell_type": "code",
   "execution_count": 1,
   "metadata": {},
   "outputs": [],
   "source": [
    "import numpy as np\n",
    "from sys import maxsize\n",
    "def BellmanFord(graph, V, E, src):\n",
    "    dis=np.ones(V,dtype=int)*np.infty    \n",
    "    dis[src] = 0\n",
    "    for i in range(V - 1):\n",
    "        for j in range(E):\n",
    "            if dis[graph[j][0]] + \\\n",
    "                graph[j][2] < dis[graph[j][1]]:\n",
    "                dis[graph[j][1]] = dis[graph[j][0]] + \\\n",
    "                                    graph[j][2]\n",
    "    for i in range(E):\n",
    "        x = graph[i][0]\n",
    "        y = graph[i][1]\n",
    "        weight = graph[i][2]\n",
    "        if dis[x] != maxsize and dis[x] + \\\n",
    "                        weight < dis[y]:\n",
    "            print(\"Graph contains negative weight cycle\")\n",
    "    return dis  \n"
   ]
  },
  {
   "cell_type": "markdown",
   "metadata": {},
   "source": [
    "# Graph G and subgraph H"
   ]
  },
  {
   "cell_type": "code",
   "execution_count": 2,
   "metadata": {},
   "outputs": [],
   "source": [
    "G = [[6, 5, 11], [6, 4, 9], [5, 4, 8],\n",
    "             [5, 3, 6], [4, 3, 15], [4, 1, 7],\n",
    "             [4, 2, 5], [3, 0, 5],[3,1,9],[2,6,2],[2,1,8],[1,0,7]]\n",
    "H= [[6, 5, 11], [6, 4, 9],\n",
    "             [5, 3, 6],  [4, 1, 7],\n",
    "             [4, 2, 5], [3, 0, 5],[2,6,2],[2,1,8],[1,0,7]]"
   ]
  },
  {
   "cell_type": "markdown",
   "metadata": {},
   "source": [
    "## Step 1"
   ]
  },
  {
   "cell_type": "code",
   "execution_count": 3,
   "metadata": {},
   "outputs": [],
   "source": [
    "# All shortest path in H form source node 6\n",
    "D_H=BellmanFord(H,7,9,6)"
   ]
  },
  {
   "cell_type": "markdown",
   "metadata": {},
   "source": [
    "## Step 2"
   ]
  },
  {
   "cell_type": "markdown",
   "metadata": {},
   "source": [
    "### Reverse graph RH"
   ]
  },
  {
   "cell_type": "code",
   "execution_count": 4,
   "metadata": {},
   "outputs": [],
   "source": [
    "l=len(H)\n",
    "RH=np.zeros((l,3),dtype=int)\n",
    "for i in range (0,l):\n",
    "    RH[i][1]=H[i][0]\n",
    "    RH[i][0]=H[i][1]\n",
    "    RH[i][2]=H[i][2]"
   ]
  },
  {
   "cell_type": "code",
   "execution_count": 5,
   "metadata": {},
   "outputs": [],
   "source": [
    "# All shortest path in RH form source node 0\n",
    "D_RH=BellmanFord(RH,7,9,6)"
   ]
  },
  {
   "cell_type": "markdown",
   "metadata": {},
   "source": [
    "## Step 3"
   ]
  },
  {
   "cell_type": "code",
   "execution_count": 6,
   "metadata": {},
   "outputs": [],
   "source": [
    "M=np.infty\n",
    "for i in range(0,len(G)):\n",
    "    if G[i] not in H:\n",
    "        T=D_H[G[i][0]]+G[i][2]+D_H[G[i][1]]\n",
    "        if T<M:\n",
    "            M=T\n",
    "            edge=G[i]\n",
    "    "
   ]
  },
  {
   "cell_type": "code",
   "execution_count": 8,
   "metadata": {},
   "outputs": [
    {
     "name": "stdout",
     "output_type": "stream",
     "text": [
      "The edge can be added from (G-H) such that the path from s to t is minimum with this edge is [5, 4, 8] then weight will be 28.0\n"
     ]
    }
   ],
   "source": [
    "print(\"The edge can be added from (G-H) such that the path from s to t is minimum with this edge is \"\n",
    "      +str(edge)+\" then weight will be \"+str(M))"
   ]
  }
 ],
 "metadata": {
  "kernelspec": {
   "display_name": "Python 3",
   "language": "python",
   "name": "python3"
  },
  "language_info": {
   "codemirror_mode": {
    "name": "ipython",
    "version": 3
   },
   "file_extension": ".py",
   "mimetype": "text/x-python",
   "name": "python",
   "nbconvert_exporter": "python",
   "pygments_lexer": "ipython3",
   "version": "3.8.5"
  }
 },
 "nbformat": 4,
 "nbformat_minor": 4
}
